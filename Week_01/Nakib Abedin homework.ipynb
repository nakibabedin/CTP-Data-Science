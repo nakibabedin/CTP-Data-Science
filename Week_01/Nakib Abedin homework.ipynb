{
 "cells": [
  {
   "cell_type": "markdown",
   "metadata": {},
   "source": [
    "# First print your name in the cell below then save this file. (or something nice about your instructor)"
   ]
  },
  {
   "cell_type": "code",
   "execution_count": 5,
   "metadata": {},
   "outputs": [],
   "source": [
    "# In this cell print your name \n",
    "print(\"Nakib Abedin\")\n"
   ]
  },
  {
   "cell_type": "markdown",
   "metadata": {},
   "source": [
    "# Data wrangling with Pandas exercise\n",
    "* For this exercise we will be using the `listings.csv` data file."
   ]
  },
  {
   "cell_type": "code",
   "execution_count": 3,
   "metadata": {},
   "outputs": [],
   "source": [
    "import pandas as pd\n",
    "import numpy as np"
   ]
  },
  {
   "cell_type": "markdown",
   "metadata": {},
   "source": [
    "# Load in the data file using `pd.read_csv()`"
   ]
  },
  {
   "cell_type": "code",
   "execution_count": 9,
   "metadata": {},
   "outputs": [],
   "source": [
    "# Load data here\n",
    "df = pd.read_csv(\"data/listings.csv\") \n"
   ]
  },
  {
   "cell_type": "markdown",
   "metadata": {},
   "source": [
    "## Exercise 2 - Filtering\n",
    "\n",
    "Return the following subsets of the dataframe.\n",
    "\n",
    "1. How many listings are there with a price less than 100? \n",
    "\n",
    "\n",
    "2. Find how many listings there are in just Brooklyn.\n",
    "\n",
    "\n",
    "3. Find how many listings there are in Brooklyn with a price less than 100.\n",
    "\n",
    "\n",
    "4. Using `.isin()` select anyone that has the host name of Michael, David, John, and Daniel.\n",
    "\n",
    "\n",
    "5. Create a new column called `adjusted_price` that has $100 added to every listing in Williamsburg.  The prices for all other listings should be the same as the were before. \n",
    "\n",
    "\n",
    "6. What % of the rooms are private, and what % of the rooms are shared.  \n",
    "    * Hint, use `.value_counts()`\n"
   ]
  },
  {
   "cell_type": "code",
   "execution_count": 12,
   "metadata": {},
   "outputs": [
    {
     "data": {
      "text/plain": [
       "22778"
      ]
     },
     "execution_count": 12,
     "metadata": {},
     "output_type": "execute_result"
    }
   ],
   "source": [
    "# 1. How many listings are there with a price less than 100? \n",
    "df = pd.read_csv(\"data/listings.csv\") \n",
    "price_less_than_100 = df[ df[\"price\"] < 100 ]\n",
    "len(price_less_than_100)\n",
    "\n",
    "\n"
   ]
  },
  {
   "cell_type": "code",
   "execution_count": 14,
   "metadata": {},
   "outputs": [
    {
     "data": {
      "text/plain": [
       "18632"
      ]
     },
     "execution_count": 14,
     "metadata": {},
     "output_type": "execute_result"
    }
   ],
   "source": [
    "# 2. Make a new DataFrame of listings in Brooklyn named `df_bk` \n",
    "# and find how many listings in just Brooklyn.\n",
    "\n",
    "df = pd.read_csv(\"data/listings.csv\") \n",
    "df_bk = df[ df[\"neighbourhood_group\"] == \"Brooklyn\" ]\n",
    "len(df_bk)\n",
    "\n"
   ]
  },
  {
   "cell_type": "code",
   "execution_count": 18,
   "metadata": {},
   "outputs": [
    {
     "data": {
      "text/plain": [
       "10473"
      ]
     },
     "execution_count": 18,
     "metadata": {},
     "output_type": "execute_result"
    }
   ],
   "source": [
    "# 3. Find how many listings there are in Brooklyn with a price less than 100.\n",
    "df = pd.read_csv(\"data/listings.csv\") \n",
    "df_bk = df[\"neighbourhood_group\"] == \"Brooklyn\"\n",
    "df_price = df[\"price\"] < 100\n",
    "\n",
    "len( df[ df_bk & df_price ] )\n",
    "\n",
    "\n"
   ]
  },
  {
   "cell_type": "code",
   "execution_count": 20,
   "metadata": {},
   "outputs": [
    {
     "data": {
      "text/plain": [
       "46527"
      ]
     },
     "execution_count": 20,
     "metadata": {},
     "output_type": "execute_result"
    }
   ],
   "source": [
    "# 4. Using `.isin()` select anyone that has the host name of Michael, David, John, and Daniel.\n",
    "# How many total are there that have those names\n",
    "hosts = [ \"Michael\", \"David\", \"John\", \"Daniel\"]\n",
    "hosts_df = df[\"host_name\"].isin(hosts)\n",
    "len(hosts_df)\n",
    "\n"
   ]
  },
  {
   "cell_type": "code",
   "execution_count": 30,
   "metadata": {},
   "outputs": [
    {
     "name": "stdout",
     "output_type": "stream",
     "text": [
      "             id                                               name    host_id  \\\n",
      "0          2595                              Skylit Midtown Castle       2845   \n",
      "1          3831  Whole flr w/private bdrm, bath & kitchen(pls r...       4869   \n",
      "2          5121                                    BlissArtsSpace!       7356   \n",
      "3          5136           Spacious Brooklyn Duplex, Patio + Garden       7378   \n",
      "4          5178                   Large Furnished Room Near B'way　       8967   \n",
      "...         ...                                                ...        ...   \n",
      "46522  44807522         Designer Gramercy Studio Townhouse by UNSQ   12941925   \n",
      "46523  44807786  Cozy & comfy apt in the heart of Inwood Manhattan  284790520   \n",
      "46524  44811717  Comfortable safe environment 24hr security camera  362453686   \n",
      "46525  44814944                 Upper West Side studio 86th Street    4039777   \n",
      "46526  44818009  5MIN D/N trains, NEAR THE BEACH, 50’ TO MANHATTAN   48098268   \n",
      "\n",
      "         host_name neighbourhood_group       neighbourhood  latitude  \\\n",
      "0         Jennifer           Manhattan             Midtown  40.75362   \n",
      "1      LisaRoxanne            Brooklyn        Clinton Hill  40.68514   \n",
      "2            Garon            Brooklyn  Bedford-Stuyvesant  40.68688   \n",
      "3          Rebecca            Brooklyn         Sunset Park  40.66120   \n",
      "4         Shunichi           Manhattan      Hell's Kitchen  40.76489   \n",
      "...            ...                 ...                 ...       ...   \n",
      "46522        Brian           Manhattan            Gramercy  40.73433   \n",
      "46523        Salar           Manhattan  Washington Heights  40.85820   \n",
      "46524       Nicole            Brooklyn       East Flatbush  40.65399   \n",
      "46525     Fernando           Manhattan     Upper West Side  40.78731   \n",
      "46526       Marina            Brooklyn           Gravesend  40.59945   \n",
      "\n",
      "       longitude        room_type  price  minimum_nights  number_of_reviews  \\\n",
      "0      -73.98377  Entire home/apt    175               3                 48   \n",
      "1      -73.95976  Entire home/apt     75               1                340   \n",
      "2      -73.95596     Private room     60              29                 50   \n",
      "3      -73.99423  Entire home/apt    175              14                  1   \n",
      "4      -73.98493     Private room     65               2                473   \n",
      "...          ...              ...    ...             ...                ...   \n",
      "46522  -73.98383  Entire home/apt    145               7                  0   \n",
      "46523  -73.92733  Entire home/apt     87               6                  0   \n",
      "46524  -73.93287     Private room     59               3                  0   \n",
      "46525  -73.97029  Entire home/apt     80              30                  0   \n",
      "46526  -73.98209     Private room     66               1                  0   \n",
      "\n",
      "      last_review  reviews_per_month  calculated_host_listings_count  \\\n",
      "0      2019-11-04               0.37                               2   \n",
      "1      2020-08-01               4.75                               1   \n",
      "2      2019-12-02               0.37                               1   \n",
      "3      2014-01-02               0.01                               1   \n",
      "4      2020-03-15               3.44                               1   \n",
      "...           ...                ...                             ...   \n",
      "46522         NaN                NaN                               1   \n",
      "46523         NaN                NaN                               2   \n",
      "46524         NaN                NaN                               1   \n",
      "46525         NaN                NaN                               1   \n",
      "46526         NaN                NaN                               1   \n",
      "\n",
      "       availability_365  adjusted_price  \n",
      "0                   365             275  \n",
      "1                   265             175  \n",
      "2                   365             160  \n",
      "3                   295             275  \n",
      "4                   340             165  \n",
      "...                 ...             ...  \n",
      "46522               164             245  \n",
      "46523                85             187  \n",
      "46524                90             159  \n",
      "46525               113             180  \n",
      "46526                38             166  \n",
      "\n",
      "[46527 rows x 17 columns]\n"
     ]
    }
   ],
   "source": [
    "# 5. Create a new column called `adjusted_price` that has $100 added to every listing in Williamsburg.  \n",
    "# The prices for all other listings should be the same as the were before. \n",
    "\n",
    "df[\"adjusted_price\"] = df[\"price\"] + 100\n",
    "df.loc[df['neighbourhood'] == 'Williamsburg', 'adjusted_price'] += 100\n",
    "print(df)\n"
   ]
  },
  {
   "cell_type": "code",
   "execution_count": 34,
   "metadata": {},
   "outputs": [
    {
     "data": {
      "text/plain": [
       "room_type\n",
       "Entire home/apt    1.108575e-05\n",
       "Private room       9.767357e-06\n",
       "Shared room        4.559393e-07\n",
       "Hotel room         1.838540e-07\n",
       "Name: proportion, dtype: float64"
      ]
     },
     "execution_count": 34,
     "metadata": {},
     "output_type": "execute_result"
    }
   ],
   "source": [
    "# 6. What % of the rooms are private, and what % of the rooms are shared.  \n",
    "df[\"room_type\"].value_counts(\"private\") / len(df[\"room_type\"])\n",
    "\n",
    "\n"
   ]
  },
  {
   "cell_type": "markdown",
   "metadata": {},
   "source": [
    "# Exercise 3 - Grouping\n",
    "\n",
    "1. Using `groupby`, count how many listings are in each neighbourhood_group.\n",
    "\n",
    "\n",
    "2. Using `groupby`, find the mean price for each of the neighbourhood_groups. \n",
    "\n",
    "\n",
    "3. Using `groupby` and `.agg()`, find the min and max price for each of the neighbourhood_groups. \n",
    "\n",
    "\n",
    "4. Using `groupby`, find the median price for each room type in each neighbourhood_group.\n",
    "\n",
    "\n",
    "5. Using `groupby` and `.agg()`, find the count, min, max, mean, median, and std of the prices for each room type in each neighbourhood_group."
   ]
  },
  {
   "cell_type": "code",
   "execution_count": 8,
   "metadata": {},
   "outputs": [],
   "source": [
    "# 1. Using `groupby`, count how many listings are in each neighbourhood_group.\n",
    "\n",
    "\n"
   ]
  },
  {
   "cell_type": "code",
   "execution_count": 12,
   "metadata": {},
   "outputs": [],
   "source": [
    "# 2. Using `groupby`, find the mean price for each of the neighbourhood_groups. \n",
    "\n",
    "\n"
   ]
  },
  {
   "cell_type": "code",
   "execution_count": null,
   "metadata": {},
   "outputs": [],
   "source": [
    "# 2.5. Using `groupby`, find the mean price for each room_type. \n"
   ]
  },
  {
   "cell_type": "code",
   "execution_count": 13,
   "metadata": {},
   "outputs": [],
   "source": [
    "# 3. Using `groupby` and `.agg()`, find the min and max price for each of the neighbourhood_groups. \n",
    "\n",
    "\n"
   ]
  },
  {
   "cell_type": "code",
   "execution_count": 14,
   "metadata": {},
   "outputs": [],
   "source": [
    "# 4. Using `groupby`, find the mean price for each room_type in each neighbourhood_group.\n",
    "\n"
   ]
  },
  {
   "cell_type": "code",
   "execution_count": 15,
   "metadata": {},
   "outputs": [],
   "source": [
    "# 5. Using `groupby` and `.agg()`, find the count, min, max, mean, median, and std of the prices \n",
    "# for each room type in each neighbourhood_group.\n",
    "\n",
    "\n",
    "\n"
   ]
  },
  {
   "cell_type": "markdown",
   "metadata": {},
   "source": [
    "# Join and file saving.\n",
    "1. Load the `prices.csv` and the `n_listings.csv`\n",
    "\n",
    "\n",
    "2. Do join that keeps all the records for each table.\n",
    "    * Neighbourhood groups should include ['Bronx', 'Brooklyn', 'Manhattan', 'Queens', 'Staten Island',\n",
    "       'LongIsland']\n",
    "       \n",
    "       \n",
    "3. Save your joined csv as `joined.csv`\n",
    "\n",
    "\n",
    "4. Load your saved table and see if it looks the same or different that the DataFrame you used to create it. "
   ]
  },
  {
   "cell_type": "code",
   "execution_count": 16,
   "metadata": {},
   "outputs": [],
   "source": [
    "# 1. Load the `prices.csv` and the `n_listings.csv`\n",
    "\n"
   ]
  },
  {
   "cell_type": "code",
   "execution_count": 18,
   "metadata": {},
   "outputs": [],
   "source": [
    "# 2. Do join that keeps all the records for each table.\n",
    "\n",
    "\n"
   ]
  },
  {
   "cell_type": "markdown",
   "metadata": {},
   "source": [
    "# Extra Credit\n",
    "Every question below this cell is extra credit and optional."
   ]
  },
  {
   "cell_type": "markdown",
   "metadata": {},
   "source": [
    "### 1. (Easy) Explore this new PandasAI Package and tell me what its all about because I've never used it. \n",
    "* https://www.youtube.com/watch?v=5w6eZaoDVVk&ab_channel=CodingIsFun  \n",
    "* See if you can use it on the listings.csv to find out some cool info. or answer some of the questions above. "
   ]
  },
  {
   "cell_type": "markdown",
   "metadata": {},
   "source": [
    "### 2. (Very Easy) Find other cool Panda packages / add ons and show us what they can do well. And how you installed them. "
   ]
  },
  {
   "cell_type": "markdown",
   "metadata": {},
   "source": [
    "### 3. (Medium) Use the grammys.csv data for the next section of questions.\n",
    "\n",
    "1. Who was won Album of the Year in 2016?\n",
    "\n",
    "\n",
    "2. Who won Best Rap Album in 2009?\n",
    "\n",
    "\n",
    "3. How many awards was Kendrick Lamar nomiated for, and how many did he win...?"
   ]
  },
  {
   "cell_type": "markdown",
   "metadata": {},
   "source": [
    "### (Hard) Load the Game Logs for 2022 and add the column names using a dictionary.  \n",
    "* [Link to the data page](https://www.retrosheet.org/gamelogs/)\n",
    "* [Link to the column names](https://procatinator.com/)\n",
    "* haha, gotta find them yourself!"
   ]
  },
  {
   "cell_type": "markdown",
   "metadata": {},
   "source": [
    "### (Extra Hard) Download the files for the past 5 years into a new folder and add them all into one data frame using pandas, then save that new file.\n",
    "* Try to not hard code in the file names. We want to do this programmatically because what if we want to add new/more file names in the future."
   ]
  },
  {
   "cell_type": "code",
   "execution_count": null,
   "metadata": {},
   "outputs": [],
   "source": []
  }
 ],
 "metadata": {
  "kernelspec": {
   "display_name": "Python 3 (ipykernel)",
   "language": "python",
   "name": "python3"
  },
  "language_info": {
   "codemirror_mode": {
    "name": "ipython",
    "version": 3
   },
   "file_extension": ".py",
   "mimetype": "text/x-python",
   "name": "python",
   "nbconvert_exporter": "python",
   "pygments_lexer": "ipython3",
   "version": "3.12.4"
  }
 },
 "nbformat": 4,
 "nbformat_minor": 4
}
